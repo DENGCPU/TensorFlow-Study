{
  "nbformat": 4,
  "nbformat_minor": 0,
  "metadata": {
    "colab": {
      "provenance": [],
      "authorship_tag": "ABX9TyPMJB/77Dvcf5iWQZ+hww0m",
      "include_colab_link": true
    },
    "kernelspec": {
      "name": "python3",
      "display_name": "Python 3"
    },
    "language_info": {
      "name": "python"
    }
  },
  "cells": [
    {
      "cell_type": "markdown",
      "metadata": {
        "id": "view-in-github",
        "colab_type": "text"
      },
      "source": [
        "<a href=\"https://colab.research.google.com/github/DENGCPU/TensorFlow-Study/blob/main/%E4%BF%9D%E5%AD%98%E5%92%8C%E6%81%A2%E5%A4%8D%E6%A8%A1%E5%9E%8B.ipynb\" target=\"_parent\"><img src=\"https://colab.research.google.com/assets/colab-badge.svg\" alt=\"Open In Colab\"/></a>"
      ]
    },
    {
      "cell_type": "code",
      "execution_count": 1,
      "metadata": {
        "colab": {
          "base_uri": "https://localhost:8080/"
        },
        "id": "POFeI5QFAbYt",
        "outputId": "7a8e26a5-bc19-40c3-9c52-05da6b9e5121"
      },
      "outputs": [
        {
          "output_type": "stream",
          "name": "stdout",
          "text": [
            "Requirement already satisfied: pyyaml in /usr/local/lib/python3.10/dist-packages (6.0.1)\n",
            "Requirement already satisfied: h5py in /usr/local/lib/python3.10/dist-packages (3.9.0)\n",
            "Requirement already satisfied: numpy>=1.17.3 in /usr/local/lib/python3.10/dist-packages (from h5py) (1.25.2)\n"
          ]
        }
      ],
      "source": [
        "pip install pyyaml h5py  # Required to save models in HDF5 format"
      ]
    },
    {
      "cell_type": "code",
      "source": [
        "import os\n",
        "import tensorflow as tf\n",
        "from tensorflow import keras\n",
        "\n",
        "print(tf.__version__)"
      ],
      "metadata": {
        "colab": {
          "base_uri": "https://localhost:8080/"
        },
        "id": "C82VF1hMA5eG",
        "outputId": "37e1aefc-1410-4711-f553-4a8684b5912f"
      },
      "execution_count": 4,
      "outputs": [
        {
          "output_type": "stream",
          "name": "stdout",
          "text": [
            "2.15.0\n"
          ]
        }
      ]
    },
    {
      "cell_type": "code",
      "source": [
        "# 获取数据集 MNIST数据集\n",
        "(train_images,train_labels),(test_images,test_labels)=tf.keras.datasets.mnist.load_data()\n",
        "train_labels=train_labels[:1000]\n",
        "test_labels=test_labels[:1000]\n",
        "\n",
        "train_images = train_images[:1000].reshape(-1,28*28) / 255.0\n",
        "test_images = test_images[:1000].reshape(-1, 28*28) / 255.0"
      ],
      "metadata": {
        "colab": {
          "base_uri": "https://localhost:8080/"
        },
        "id": "arLw-77LDVFG",
        "outputId": "cf546345-e879-431d-9600-76fa56939ced"
      },
      "execution_count": 6,
      "outputs": [
        {
          "output_type": "stream",
          "name": "stdout",
          "text": [
            "Downloading data from https://storage.googleapis.com/tensorflow/tf-keras-datasets/mnist.npz\n",
            "11490434/11490434 [==============================] - 0s 0us/step\n"
          ]
        }
      ]
    },
    {
      "cell_type": "code",
      "source": [
        "# 定义一个序列sequential模型\n",
        "def create_model():\n",
        "  model = tf.keras.Sequential([\n",
        "      keras.layers.Dense(512,activation='relu',input_shape=(784,)),\n",
        "      keras.layers.Dropout(0.2),\n",
        "      keras.layers.Dense(10)\n",
        "      ])\n",
        "  model.compile(optimizer='adam',\n",
        "                loss=tf.keras.losses.SparseCategoricalCrossentropy(from_logits=True),\n",
        "                metrics=[tf.keras.metrics.SparseCategoricalAccuracy()]\n",
        "                )\n",
        "  return model\n",
        "\n",
        "# 创建一个模型\n",
        "model = create_model()\n",
        "# 查看模型的结构\n",
        "model.summary()"
      ],
      "metadata": {
        "colab": {
          "base_uri": "https://localhost:8080/"
        },
        "id": "6ebUF3bgBMfU",
        "outputId": "91270c1f-cbb7-42d5-da6f-ed9d2e8b129c"
      },
      "execution_count": 5,
      "outputs": [
        {
          "output_type": "stream",
          "name": "stdout",
          "text": [
            "Model: \"sequential\"\n",
            "_________________________________________________________________\n",
            " Layer (type)                Output Shape              Param #   \n",
            "=================================================================\n",
            " dense (Dense)               (None, 512)               401920    \n",
            "                                                                 \n",
            " dropout (Dropout)           (None, 512)               0         \n",
            "                                                                 \n",
            " dense_1 (Dense)             (None, 10)                5130      \n",
            "                                                                 \n",
            "=================================================================\n",
            "Total params: 407050 (1.55 MB)\n",
            "Trainable params: 407050 (1.55 MB)\n",
            "Non-trainable params: 0 (0.00 Byte)\n",
            "_________________________________________________________________\n"
          ]
        }
      ]
    },
    {
      "cell_type": "code",
      "source": [
        "# 创建一个只在训练期间保存权重的tf.keras.callbacks.ModelCheckpoint回调\n",
        "checkpoint_path = 'training_1/cp.ckpt'\n",
        "checkpoint_dir = os.path.dirname(checkpoint_path)\n",
        "\n",
        "# 创建一个callback保存模型的权重\n",
        "cp_callback = tf.keras.callbacks.ModelCheckpoint(filepath=checkpoint_path,\n",
        "                                                 save_weights_only=True,\n",
        "                                                 # 当 verbose=1 时，每次保存模型或权重时都会在控制台输出一条消息。\n",
        "                                                 verbose=1)\n",
        "# 训练模型\n",
        "model.fit(train_images,train_labels,epochs=10,validation_data=(test_images,test_labels),callbacks=[cp_callback])"
      ],
      "metadata": {
        "colab": {
          "base_uri": "https://localhost:8080/"
        },
        "id": "9W95PLmRCRjV",
        "outputId": "8ad59968-fe7b-4e02-a4dc-ca4d7f933fc0"
      },
      "execution_count": 8,
      "outputs": [
        {
          "output_type": "stream",
          "name": "stdout",
          "text": [
            "Epoch 1/10\n",
            "32/32 [==============================] - ETA: 0s - loss: 0.4187 - sparse_categorical_accuracy: 0.8740\n",
            "Epoch 1: saving model to training_1/cp.ckpt\n",
            "32/32 [==============================] - 1s 21ms/step - loss: 0.4187 - sparse_categorical_accuracy: 0.8740 - val_loss: 0.5515 - val_sparse_categorical_accuracy: 0.8230\n",
            "Epoch 2/10\n",
            "28/32 [=========================>....] - ETA: 0s - loss: 0.3079 - sparse_categorical_accuracy: 0.9219\n",
            "Epoch 2: saving model to training_1/cp.ckpt\n",
            "32/32 [==============================] - 1s 17ms/step - loss: 0.2990 - sparse_categorical_accuracy: 0.9250 - val_loss: 0.4788 - val_sparse_categorical_accuracy: 0.8440\n",
            "Epoch 3/10\n",
            "32/32 [==============================] - ETA: 0s - loss: 0.2022 - sparse_categorical_accuracy: 0.9510\n",
            "Epoch 3: saving model to training_1/cp.ckpt\n",
            "32/32 [==============================] - 1s 25ms/step - loss: 0.2022 - sparse_categorical_accuracy: 0.9510 - val_loss: 0.4212 - val_sparse_categorical_accuracy: 0.8600\n",
            "Epoch 4/10\n",
            "29/32 [==========================>...] - ETA: 0s - loss: 0.1543 - sparse_categorical_accuracy: 0.9688\n",
            "Epoch 4: saving model to training_1/cp.ckpt\n",
            "32/32 [==============================] - 1s 27ms/step - loss: 0.1507 - sparse_categorical_accuracy: 0.9690 - val_loss: 0.4306 - val_sparse_categorical_accuracy: 0.8530\n",
            "Epoch 5/10\n",
            "31/32 [============================>.] - ETA: 0s - loss: 0.1229 - sparse_categorical_accuracy: 0.9758\n",
            "Epoch 5: saving model to training_1/cp.ckpt\n",
            "32/32 [==============================] - 1s 28ms/step - loss: 0.1226 - sparse_categorical_accuracy: 0.9760 - val_loss: 0.4399 - val_sparse_categorical_accuracy: 0.8520\n",
            "Epoch 6/10\n",
            "29/32 [==========================>...] - ETA: 0s - loss: 0.0802 - sparse_categorical_accuracy: 0.9903\n",
            "Epoch 6: saving model to training_1/cp.ckpt\n",
            "32/32 [==============================] - 1s 27ms/step - loss: 0.0806 - sparse_categorical_accuracy: 0.9900 - val_loss: 0.4035 - val_sparse_categorical_accuracy: 0.8610\n",
            "Epoch 7/10\n",
            "26/32 [=======================>......] - ETA: 0s - loss: 0.0588 - sparse_categorical_accuracy: 0.9964\n",
            "Epoch 7: saving model to training_1/cp.ckpt\n",
            "32/32 [==============================] - 0s 15ms/step - loss: 0.0567 - sparse_categorical_accuracy: 0.9970 - val_loss: 0.4022 - val_sparse_categorical_accuracy: 0.8670\n",
            "Epoch 8/10\n",
            "30/32 [===========================>..] - ETA: 0s - loss: 0.0459 - sparse_categorical_accuracy: 0.9979\n",
            "Epoch 8: saving model to training_1/cp.ckpt\n",
            "32/32 [==============================] - 0s 14ms/step - loss: 0.0451 - sparse_categorical_accuracy: 0.9980 - val_loss: 0.4052 - val_sparse_categorical_accuracy: 0.8710\n",
            "Epoch 9/10\n",
            "29/32 [==========================>...] - ETA: 0s - loss: 0.0389 - sparse_categorical_accuracy: 0.9989\n",
            "Epoch 9: saving model to training_1/cp.ckpt\n",
            "32/32 [==============================] - 1s 16ms/step - loss: 0.0404 - sparse_categorical_accuracy: 0.9990 - val_loss: 0.3967 - val_sparse_categorical_accuracy: 0.8670\n",
            "Epoch 10/10\n",
            "29/32 [==========================>...] - ETA: 0s - loss: 0.0310 - sparse_categorical_accuracy: 1.0000\n",
            "Epoch 10: saving model to training_1/cp.ckpt\n",
            "32/32 [==============================] - 0s 15ms/step - loss: 0.0305 - sparse_categorical_accuracy: 1.0000 - val_loss: 0.4057 - val_sparse_categorical_accuracy: 0.8700\n"
          ]
        },
        {
          "output_type": "execute_result",
          "data": {
            "text/plain": [
              "<keras.src.callbacks.History at 0x7d5c05ffa5f0>"
            ]
          },
          "metadata": {},
          "execution_count": 8
        }
      ]
    },
    {
      "cell_type": "code",
      "source": [
        "os.listdir(checkpoint_dir)"
      ],
      "metadata": {
        "colab": {
          "base_uri": "https://localhost:8080/"
        },
        "id": "bs-J9rwYDUEY",
        "outputId": "00aab3e8-4a9f-4aa8-9ae2-c5891af3dece"
      },
      "execution_count": 9,
      "outputs": [
        {
          "output_type": "execute_result",
          "data": {
            "text/plain": [
              "['cp.ckpt.index', 'cp.ckpt.data-00000-of-00001', 'checkpoint']"
            ]
          },
          "metadata": {},
          "execution_count": 9
        }
      ]
    },
    {
      "cell_type": "code",
      "source": [
        "# 创建一个未经过训练的新模型\n",
        "model = create_model()\n",
        "\n",
        "# 评估模型\n",
        "loss,acc= model.evaluate(test_images,test_labels,verbose=2)\n",
        "print('untrained model, accuracy: {:5.2f}%'.format(100*acc))"
      ],
      "metadata": {
        "colab": {
          "base_uri": "https://localhost:8080/"
        },
        "id": "SuNwm79kEXcH",
        "outputId": "63035eb4-4445-46bd-a5d6-e63dac9af0fb"
      },
      "execution_count": 10,
      "outputs": [
        {
          "output_type": "stream",
          "name": "stdout",
          "text": [
            "32/32 - 0s - loss: 2.3624 - sparse_categorical_accuracy: 0.0740 - 198ms/epoch - 6ms/step\n",
            "untrained model, accuracy:  7.40%\n"
          ]
        }
      ]
    },
    {
      "cell_type": "code",
      "source": [
        "# 从checkpoint 加载权重并重新评估\n",
        "model.load_weights(checkpoint_path)\n",
        "# 重新评估\n",
        "loss,acc= model.evaluate(test_images,test_labels,verbose=2)\n",
        "print('untrained model, accuracy: {:5.2f}%'.format(100*acc))"
      ],
      "metadata": {
        "colab": {
          "base_uri": "https://localhost:8080/"
        },
        "id": "rf0VQdzxFOtp",
        "outputId": "e99cdfe6-b751-442d-e841-73fac1d760d7"
      },
      "execution_count": 11,
      "outputs": [
        {
          "output_type": "stream",
          "name": "stdout",
          "text": [
            "32/32 - 0s - loss: 0.4057 - sparse_categorical_accuracy: 0.8700 - 95ms/epoch - 3ms/step\n",
            "untrained model, accuracy: 87.00%\n"
          ]
        }
      ]
    },
    {
      "cell_type": "code",
      "source": [
        "# checkpoint回调选项\n",
        "\n",
        "# 训练一个新模型，每五个epochs保存一次唯一命名的checkpoint\n",
        "\n",
        "# 将epoch放入文件名\n",
        "checkpoint_path = 'training_2/cp-{epoch:04d}.ckpt'\n",
        "checkpoint_dir = os.path.dirname(checkpoint_path)\n",
        "\n",
        "batch_size=32\n",
        "\n",
        "# calculate the number of batches per epoch\n",
        "import math\n",
        "n_batches = len(train_images) / batch_size\n",
        "n_batches = math.ceil(n_batches)\n",
        "\n",
        "# create  a callback that saves the model's weight every 5 epochs\n",
        "cp_callback = tf.keras.callbacks.ModelCheckpoint(\n",
        "    filepath= checkpoint_path,\n",
        "    verbose=1,\n",
        "    save_weights_only=True,\n",
        "    save_freq=5*n_batches\n",
        ")\n",
        "# create a model instance\n",
        "model = create_model()\n",
        "\n",
        "# 保存权重\n",
        "model.save_weights(checkpoint_path.format(epoch=0))\n",
        "\n",
        "# 训练模型\n",
        "model.fit(train_images,train_labels,epochs=50,\n",
        "          batch_size=batch_size,\n",
        "          callbacks=[cp_callback],\n",
        "          validation_data=(test_images,test_labels),\n",
        "          verbose=0)\n"
      ],
      "metadata": {
        "colab": {
          "base_uri": "https://localhost:8080/"
        },
        "id": "dxrN6nwNFmMB",
        "outputId": "3af58897-0d8f-4d59-ac7e-55385f65fe8f"
      },
      "execution_count": 12,
      "outputs": [
        {
          "output_type": "stream",
          "name": "stdout",
          "text": [
            "\n",
            "Epoch 5: saving model to training_2/cp-0005.ckpt\n",
            "\n",
            "Epoch 10: saving model to training_2/cp-0010.ckpt\n",
            "\n",
            "Epoch 15: saving model to training_2/cp-0015.ckpt\n",
            "\n",
            "Epoch 20: saving model to training_2/cp-0020.ckpt\n",
            "\n",
            "Epoch 25: saving model to training_2/cp-0025.ckpt\n",
            "\n",
            "Epoch 30: saving model to training_2/cp-0030.ckpt\n",
            "\n",
            "Epoch 35: saving model to training_2/cp-0035.ckpt\n",
            "\n",
            "Epoch 40: saving model to training_2/cp-0040.ckpt\n",
            "\n",
            "Epoch 45: saving model to training_2/cp-0045.ckpt\n",
            "\n",
            "Epoch 50: saving model to training_2/cp-0050.ckpt\n"
          ]
        },
        {
          "output_type": "execute_result",
          "data": {
            "text/plain": [
              "<keras.src.callbacks.History at 0x7d5c05ff9a20>"
            ]
          },
          "metadata": {},
          "execution_count": 12
        }
      ]
    },
    {
      "cell_type": "code",
      "source": [
        "# 检查生成的检查点\n",
        "os.listdir(checkpoint_dir)"
      ],
      "metadata": {
        "colab": {
          "base_uri": "https://localhost:8080/"
        },
        "id": "fzY1KkbMIV0v",
        "outputId": "d55847c7-0f42-4f35-d8b5-dc17f49f2410"
      },
      "execution_count": 14,
      "outputs": [
        {
          "output_type": "execute_result",
          "data": {
            "text/plain": [
              "['cp-0045.ckpt.data-00000-of-00001',\n",
              " 'cp-0010.ckpt.index',\n",
              " 'cp-0040.ckpt.data-00000-of-00001',\n",
              " 'cp-0040.ckpt.index',\n",
              " 'cp-0025.ckpt.data-00000-of-00001',\n",
              " 'cp-0015.ckpt.index',\n",
              " 'cp-0015.ckpt.data-00000-of-00001',\n",
              " 'cp-0025.ckpt.index',\n",
              " 'cp-0050.ckpt.data-00000-of-00001',\n",
              " 'cp-0050.ckpt.index',\n",
              " 'cp-0035.ckpt.index',\n",
              " 'cp-0030.ckpt.data-00000-of-00001',\n",
              " 'cp-0020.ckpt.index',\n",
              " 'cp-0035.ckpt.data-00000-of-00001',\n",
              " 'cp-0000.ckpt.data-00000-of-00001',\n",
              " 'cp-0045.ckpt.index',\n",
              " 'cp-0005.ckpt.index',\n",
              " 'checkpoint',\n",
              " 'cp-0000.ckpt.index',\n",
              " 'cp-0010.ckpt.data-00000-of-00001',\n",
              " 'cp-0020.ckpt.data-00000-of-00001',\n",
              " 'cp-0030.ckpt.index',\n",
              " 'cp-0005.ckpt.data-00000-of-00001']"
            ]
          },
          "metadata": {},
          "execution_count": 13
        },
        {
          "output_type": "execute_result",
          "data": {
            "text/plain": [
              "['cp-0045.ckpt.data-00000-of-00001',\n",
              " 'cp-0010.ckpt.index',\n",
              " 'cp-0040.ckpt.data-00000-of-00001',\n",
              " 'cp-0040.ckpt.index',\n",
              " 'cp-0025.ckpt.data-00000-of-00001',\n",
              " 'cp-0015.ckpt.index',\n",
              " 'cp-0015.ckpt.data-00000-of-00001',\n",
              " 'cp-0025.ckpt.index',\n",
              " 'cp-0050.ckpt.data-00000-of-00001',\n",
              " 'cp-0050.ckpt.index',\n",
              " 'cp-0035.ckpt.index',\n",
              " 'cp-0030.ckpt.data-00000-of-00001',\n",
              " 'cp-0020.ckpt.index',\n",
              " 'cp-0035.ckpt.data-00000-of-00001',\n",
              " 'cp-0000.ckpt.data-00000-of-00001',\n",
              " 'cp-0045.ckpt.index',\n",
              " 'cp-0005.ckpt.index',\n",
              " 'checkpoint',\n",
              " 'cp-0000.ckpt.index',\n",
              " 'cp-0010.ckpt.data-00000-of-00001',\n",
              " 'cp-0020.ckpt.data-00000-of-00001',\n",
              " 'cp-0030.ckpt.index',\n",
              " 'cp-0005.ckpt.data-00000-of-00001']"
            ]
          },
          "metadata": {},
          "execution_count": 14
        }
      ]
    },
    {
      "cell_type": "code",
      "source": [
        "# 最新的检查点\n",
        "latest = tf.train.latest_checkpoint(checkpoint_dir)\n",
        "latest"
      ],
      "metadata": {
        "colab": {
          "base_uri": "https://localhost:8080/",
          "height": 35
        },
        "id": "F-5nQ4GwIoio",
        "outputId": "7f34dc3b-4a9d-4051-bb37-ef49aa18ecf6"
      },
      "execution_count": 15,
      "outputs": [
        {
          "output_type": "execute_result",
          "data": {
            "text/plain": [
              "'training_2/cp-0050.ckpt'"
            ],
            "application/vnd.google.colaboratory.intrinsic+json": {
              "type": "string"
            }
          },
          "metadata": {},
          "execution_count": 15
        }
      ]
    },
    {
      "cell_type": "code",
      "source": [
        "# 创建一个新模型\n",
        "model = create_model()\n",
        "# 加载最新检查点的权重\n",
        "model.load_weights(latest)\n",
        "# 重新评估模型\n",
        "loss,acc= model.evaluate(test_images,test_labels,verbose=2)\n",
        "print('Restored model,accuracy: {:.2f}%'.format(100 * acc))"
      ],
      "metadata": {
        "id": "O_ZpQdGmIznc",
        "outputId": "5a7f4903-4d99-418a-e354-d1951f06e90c",
        "colab": {
          "base_uri": "https://localhost:8080/"
        }
      },
      "execution_count": 16,
      "outputs": [
        {
          "output_type": "stream",
          "name": "stdout",
          "text": [
            "32/32 - 0s - loss: 0.5009 - sparse_categorical_accuracy: 0.8740 - 340ms/epoch - 11ms/step\n",
            "Restored model,accuracy: 87.40%\n"
          ]
        }
      ]
    },
    {
      "cell_type": "code",
      "source": [
        "# 手动保存权重\n",
        "model.save_weights('./checkpoints/my_checkpoint')\n",
        "\n",
        "# 创建一个新模型\n",
        "model = create_model()\n",
        "\n",
        "model.load_weights('./checkpoints/my_checkpoint')\n",
        "loss,acc = model.evaluate(test_images,test_labels,verbose=2)\n",
        "print('Restored model,accuracy: {:.2f}%'.format(100 * acc))"
      ],
      "metadata": {
        "id": "D27Um1g-JZ2H",
        "outputId": "e5aaf04d-255a-4cc1-cee5-477d1a34db00",
        "colab": {
          "base_uri": "https://localhost:8080/"
        }
      },
      "execution_count": 17,
      "outputs": [
        {
          "output_type": "stream",
          "name": "stdout",
          "text": [
            "32/32 - 0s - loss: 0.5009 - sparse_categorical_accuracy: 0.8740 - 193ms/epoch - 6ms/step\n",
            "Restored model,accuracy: 87.40%\n"
          ]
        }
      ]
    },
    {
      "cell_type": "code",
      "source": [
        "# 保存整个模型 tf.keras.Model.save\n",
        "\n",
        "model= create_model()\n",
        "model.fit(train_images,train_labels,epochs=5)\n",
        "\n",
        "# 保存整个模型以.keras 的zip格式\n",
        "model.save('my_model.keras')\n"
      ],
      "metadata": {
        "id": "4rW-G2h3J7A0",
        "outputId": "94ea4e43-f758-4fcf-8359-51a2345c0281",
        "colab": {
          "base_uri": "https://localhost:8080/"
        }
      },
      "execution_count": 18,
      "outputs": [
        {
          "output_type": "stream",
          "name": "stdout",
          "text": [
            "Epoch 1/5\n",
            "32/32 [==============================] - 1s 8ms/step - loss: 1.1445 - sparse_categorical_accuracy: 0.6760\n",
            "Epoch 2/5\n",
            "32/32 [==============================] - 0s 7ms/step - loss: 0.4252 - sparse_categorical_accuracy: 0.8850\n",
            "Epoch 3/5\n",
            "32/32 [==============================] - 0s 8ms/step - loss: 0.2815 - sparse_categorical_accuracy: 0.9230\n",
            "Epoch 4/5\n",
            "32/32 [==============================] - 0s 8ms/step - loss: 0.2009 - sparse_categorical_accuracy: 0.9540\n",
            "Epoch 5/5\n",
            "32/32 [==============================] - 0s 7ms/step - loss: 0.1516 - sparse_categorical_accuracy: 0.9670\n"
          ]
        }
      ]
    },
    {
      "cell_type": "code",
      "source": [
        "# 从.keras中归档重新加载新的模型\n",
        "new_model = tf.keras.models.load_model('my_model.keras')\n",
        "new_model.summary()"
      ],
      "metadata": {
        "id": "l2uAROblKgDN",
        "outputId": "e03a0229-57d0-44d8-81ca-e8c3bbdd8623",
        "colab": {
          "base_uri": "https://localhost:8080/"
        }
      },
      "execution_count": 19,
      "outputs": [
        {
          "output_type": "stream",
          "name": "stdout",
          "text": [
            "Model: \"sequential_5\"\n",
            "_________________________________________________________________\n",
            " Layer (type)                Output Shape              Param #   \n",
            "=================================================================\n",
            " dense_10 (Dense)            (None, 512)               401920    \n",
            "                                                                 \n",
            " dropout_5 (Dropout)         (None, 512)               0         \n",
            "                                                                 \n",
            " dense_11 (Dense)            (None, 10)                5130      \n",
            "                                                                 \n",
            "=================================================================\n",
            "Total params: 407050 (1.55 MB)\n",
            "Trainable params: 407050 (1.55 MB)\n",
            "Non-trainable params: 0 (0.00 Byte)\n",
            "_________________________________________________________________\n"
          ]
        }
      ]
    },
    {
      "cell_type": "code",
      "source": [
        "loss, acc  = new_model.evaluate(test_images,test_labels,verbose=2)\n",
        "print('Restored model, accuracy: {:5.2f}%'.format(100 * acc))\n",
        "\n",
        "print(new_model.predict(test_images).shape)"
      ],
      "metadata": {
        "id": "kIQYngW6KwZ-",
        "outputId": "4c376c25-b1ba-4a55-d984-f39d59b0c49e",
        "colab": {
          "base_uri": "https://localhost:8080/"
        }
      },
      "execution_count": 20,
      "outputs": [
        {
          "output_type": "stream",
          "name": "stdout",
          "text": [
            "32/32 - 0s - loss: 0.4108 - sparse_categorical_accuracy: 0.8720 - 248ms/epoch - 8ms/step\n",
            "Restored model, accuracy: 87.20%\n",
            "32/32 [==============================] - 0s 4ms/step\n",
            "(1000, 10)\n"
          ]
        }
      ]
    },
    {
      "cell_type": "code",
      "source": [
        "# 以Savemodel 格式保存模型\n",
        "model = create_model()\n",
        "model.fit(train_images,train_labels,epochs=5)\n",
        "\n",
        "!mkdir -p saved_model\n",
        "model.save('saved_model/my_model')"
      ],
      "metadata": {
        "id": "hnD35RTTLN7D",
        "outputId": "10862bd2-e72a-4137-e5c0-a62f248f8e41",
        "colab": {
          "base_uri": "https://localhost:8080/"
        }
      },
      "execution_count": 21,
      "outputs": [
        {
          "output_type": "stream",
          "name": "stdout",
          "text": [
            "Epoch 1/5\n",
            "32/32 [==============================] - 1s 10ms/step - loss: 1.1296 - sparse_categorical_accuracy: 0.6880\n",
            "Epoch 2/5\n",
            "32/32 [==============================] - 0s 10ms/step - loss: 0.4146 - sparse_categorical_accuracy: 0.8820\n",
            "Epoch 3/5\n",
            "32/32 [==============================] - 0s 10ms/step - loss: 0.2752 - sparse_categorical_accuracy: 0.9230\n",
            "Epoch 4/5\n",
            "32/32 [==============================] - 0s 10ms/step - loss: 0.2035 - sparse_categorical_accuracy: 0.9500\n",
            "Epoch 5/5\n",
            "32/32 [==============================] - 0s 10ms/step - loss: 0.1406 - sparse_categorical_accuracy: 0.9680\n"
          ]
        }
      ]
    },
    {
      "cell_type": "code",
      "source": [
        "ls saved_model/my_model"
      ],
      "metadata": {
        "id": "MvEc7M7tLN8L",
        "outputId": "79273e9e-6fdd-4872-a993-5b3d1a48fafb",
        "colab": {
          "base_uri": "https://localhost:8080/"
        }
      },
      "execution_count": 23,
      "outputs": [
        {
          "output_type": "stream",
          "name": "stdout",
          "text": [
            "\u001b[0m\u001b[01;34massets\u001b[0m/  fingerprint.pb  keras_metadata.pb  saved_model.pb  \u001b[01;34mvariables\u001b[0m/\n"
          ]
        }
      ]
    },
    {
      "cell_type": "code",
      "source": [
        "new_model= tf.keras.models.load_model('saved_model/my_model')\n",
        "new_model.summary()"
      ],
      "metadata": {
        "id": "mZDopZtiMNJP",
        "outputId": "2f81da5a-6c92-4955-bb8d-118949488513",
        "colab": {
          "base_uri": "https://localhost:8080/"
        }
      },
      "execution_count": 24,
      "outputs": [
        {
          "output_type": "stream",
          "name": "stdout",
          "text": [
            "Model: \"sequential_6\"\n",
            "_________________________________________________________________\n",
            " Layer (type)                Output Shape              Param #   \n",
            "=================================================================\n",
            " dense_12 (Dense)            (None, 512)               401920    \n",
            "                                                                 \n",
            " dropout_6 (Dropout)         (None, 512)               0         \n",
            "                                                                 \n",
            " dense_13 (Dense)            (None, 10)                5130      \n",
            "                                                                 \n",
            "=================================================================\n",
            "Total params: 407050 (1.55 MB)\n",
            "Trainable params: 407050 (1.55 MB)\n",
            "Non-trainable params: 0 (0.00 Byte)\n",
            "_________________________________________________________________\n"
          ]
        }
      ]
    },
    {
      "cell_type": "code",
      "source": [
        "loss, acc = new_model.evaluate(test_images,test_labels,verbose=2)\n",
        "print('restored model,accuracy: {:5.2f}%'.format(100 * acc))\n",
        "\n",
        "print(new_model.predict(test_images).shape)"
      ],
      "metadata": {
        "id": "D82lTwWpMcoR",
        "outputId": "ce9778f4-8bc5-4a08-ae21-f913c88ee5a9",
        "colab": {
          "base_uri": "https://localhost:8080/"
        }
      },
      "execution_count": 26,
      "outputs": [
        {
          "output_type": "stream",
          "name": "stdout",
          "text": [
            "32/32 - 0s - loss: 0.4641 - sparse_categorical_accuracy: 0.8400 - 259ms/epoch - 8ms/step\n",
            "restored model,accuracy: 84.00%\n",
            "32/32 [==============================] - 0s 3ms/step\n",
            "(1000, 10)\n"
          ]
        }
      ]
    },
    {
      "cell_type": "code",
      "source": [
        "# 使用HDF5格式保存模型\n",
        "model=  create_model()\n",
        "model.fit(train_images,train_labels,epochs=5)\n",
        "model.save('my_model.h5')"
      ],
      "metadata": {
        "id": "2bpEWxp7QcS7",
        "outputId": "aced717d-b9c1-4042-8436-85431350c37a",
        "colab": {
          "base_uri": "https://localhost:8080/"
        }
      },
      "execution_count": 27,
      "outputs": [
        {
          "output_type": "stream",
          "name": "stdout",
          "text": [
            "Epoch 1/5\n",
            "32/32 [==============================] - 1s 10ms/step - loss: 1.1304 - sparse_categorical_accuracy: 0.6800\n",
            "Epoch 2/5\n",
            "32/32 [==============================] - 0s 10ms/step - loss: 0.4169 - sparse_categorical_accuracy: 0.8840\n",
            "Epoch 3/5\n",
            "32/32 [==============================] - 0s 10ms/step - loss: 0.2905 - sparse_categorical_accuracy: 0.9240\n",
            "Epoch 4/5\n",
            "32/32 [==============================] - 0s 10ms/step - loss: 0.2023 - sparse_categorical_accuracy: 0.9550\n",
            "Epoch 5/5\n",
            "32/32 [==============================] - 0s 9ms/step - loss: 0.1562 - sparse_categorical_accuracy: 0.9650\n"
          ]
        },
        {
          "output_type": "stream",
          "name": "stderr",
          "text": [
            "/usr/local/lib/python3.10/dist-packages/keras/src/engine/training.py:3103: UserWarning: You are saving your model as an HDF5 file via `model.save()`. This file format is considered legacy. We recommend using instead the native Keras format, e.g. `model.save('my_model.keras')`.\n",
            "  saving_api.save_model(\n"
          ]
        }
      ]
    },
    {
      "cell_type": "code",
      "source": [
        "new_model =tf.keras.models.load_model('my_model.h5')\n",
        "new_model.summary()"
      ],
      "metadata": {
        "id": "RckS0Gt3QrWQ",
        "outputId": "06f8f1b7-5fdf-4d40-ca08-e67fb309aec9",
        "colab": {
          "base_uri": "https://localhost:8080/"
        }
      },
      "execution_count": 28,
      "outputs": [
        {
          "output_type": "stream",
          "name": "stdout",
          "text": [
            "Model: \"sequential_7\"\n",
            "_________________________________________________________________\n",
            " Layer (type)                Output Shape              Param #   \n",
            "=================================================================\n",
            " dense_14 (Dense)            (None, 512)               401920    \n",
            "                                                                 \n",
            " dropout_7 (Dropout)         (None, 512)               0         \n",
            "                                                                 \n",
            " dense_15 (Dense)            (None, 10)                5130      \n",
            "                                                                 \n",
            "=================================================================\n",
            "Total params: 407050 (1.55 MB)\n",
            "Trainable params: 407050 (1.55 MB)\n",
            "Non-trainable params: 0 (0.00 Byte)\n",
            "_________________________________________________________________\n"
          ]
        }
      ]
    },
    {
      "cell_type": "code",
      "source": [
        "loss , acc = new_model.evaluate(test_images,test_labels,verbose=2)\n",
        "print('Restored model, accuracy: {:5.2f}%'.format(100 * acc))"
      ],
      "metadata": {
        "id": "ZSrxTP3iQ3WB",
        "outputId": "3b9b17d8-10cf-428e-e61c-2f0ee56f2619",
        "colab": {
          "base_uri": "https://localhost:8080/"
        }
      },
      "execution_count": 29,
      "outputs": [
        {
          "output_type": "stream",
          "name": "stdout",
          "text": [
            "32/32 - 0s - loss: 0.4449 - sparse_categorical_accuracy: 0.8620 - 208ms/epoch - 6ms/step\n",
            "Restored model, accuracy: 86.20%\n"
          ]
        }
      ]
    }
  ]
}