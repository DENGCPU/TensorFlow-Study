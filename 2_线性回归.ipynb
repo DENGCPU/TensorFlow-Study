{
  "nbformat": 4,
  "nbformat_minor": 0,
  "metadata": {
    "colab": {
      "provenance": [],
      "authorship_tag": "ABX9TyP8hBtkPgHKPnmx9mxo6Z5M",
      "include_colab_link": true
    },
    "kernelspec": {
      "name": "python3",
      "display_name": "Python 3"
    },
    "language_info": {
      "name": "python"
    }
  },
  "cells": [
    {
      "cell_type": "markdown",
      "metadata": {
        "id": "view-in-github",
        "colab_type": "text"
      },
      "source": [
        "<a href=\"https://colab.research.google.com/github/DENGCPU/TensorFlow-Study/blob/main/2_%E7%BA%BF%E6%80%A7%E5%9B%9E%E5%BD%92.ipynb\" target=\"_parent\"><img src=\"https://colab.research.google.com/assets/colab-badge.svg\" alt=\"Open In Colab\"/></a>"
      ]
    },
    {
      "cell_type": "code",
      "execution_count": 6,
      "metadata": {
        "colab": {
          "base_uri": "https://localhost:8080/"
        },
        "id": "J4yCglNfhA9M",
        "outputId": "672ff77a-403d-4f76-d314-155d7d9f73e2"
      },
      "outputs": [
        {
          "output_type": "stream",
          "name": "stdout",
          "text": [
            "step: 50, loss: 0.155975, W: 0.270080, b: 0.668031\n",
            "step: 100, loss: 0.155518, W: 0.267970, b: 0.682996\n",
            "step: 150, loss: 0.155160, W: 0.266100, b: 0.696249\n",
            "step: 200, loss: 0.154879, W: 0.264445, b: 0.707984\n",
            "step: 250, loss: 0.154658, W: 0.262979, b: 0.718377\n",
            "step: 300, loss: 0.154486, W: 0.261681, b: 0.727581\n",
            "step: 350, loss: 0.154350, W: 0.260531, b: 0.735731\n",
            "step: 400, loss: 0.154244, W: 0.259513, b: 0.742948\n",
            "step: 450, loss: 0.154161, W: 0.258612, b: 0.749340\n",
            "step: 500, loss: 0.154095, W: 0.257813, b: 0.755000\n",
            "step: 550, loss: 0.154044, W: 0.257106, b: 0.760013\n",
            "step: 600, loss: 0.154004, W: 0.256480, b: 0.764451\n",
            "step: 650, loss: 0.153972, W: 0.255926, b: 0.768382\n",
            "step: 700, loss: 0.153948, W: 0.255435, b: 0.771863\n",
            "step: 750, loss: 0.153928, W: 0.255000, b: 0.774946\n",
            "step: 800, loss: 0.153913, W: 0.254615, b: 0.777676\n",
            "step: 850, loss: 0.153901, W: 0.254274, b: 0.780094\n",
            "step: 900, loss: 0.153892, W: 0.253972, b: 0.782234\n",
            "step: 950, loss: 0.153884, W: 0.253704, b: 0.784130\n",
            "step: 1000, loss: 0.153879, W: 0.253468, b: 0.785809\n"
          ]
        }
      ],
      "source": [
        "from __future__ import absolute_import,division,print_function\n",
        "\n",
        "import tensorflow as tf\n",
        "import numpy as np\n",
        "rng = np.random\n",
        "\n",
        "#参数\n",
        "learning_rate = 0.01\n",
        "training_step = 1000\n",
        "display_step = 50\n",
        "\n",
        "# Training Data.\n",
        "X = np.array([3.3,4.4,5.5,6.71,6.93,4.168,9.779,6.182,7.59,2.167,\n",
        "              7.042,10.791,5.313,7.997,5.654,9.27,3.1])\n",
        "Y = np.array([1.7,2.76,2.09,3.19,1.694,1.573,3.366,2.596,2.53,1.221,\n",
        "              2.827,3.465,1.65,2.904,2.42,2.94,1.3])\n",
        "\n",
        "# 权重和偏差，随机初始化\n",
        "W  = tf.Variable(rng.randn(), name = 'weight')\n",
        "b = tf.Variable(rng.randn(), name='bias')\n",
        "\n",
        "# 线性回归 Wx+b\n",
        "def linear_regression(x):\n",
        "  return W * x + b\n",
        "# 平方差\n",
        "def mean_square(y_pred,y_true):\n",
        "  return tf.reduce_mean(tf.square(y_pred - y_true))\n",
        "\n",
        "# 随机梯度下降优化器\n",
        "optimizer = tf.optimizers.SGD(learning_rate)\n",
        "\n",
        "# 优化过程\n",
        "def run_optimization():\n",
        "  # 将计算过程包装在GradientTape内以自动微分\n",
        "  with tf.GradientTape() as g:\n",
        "    pred = linear_regression(X)\n",
        "    loss = mean_square(pred, Y)\n",
        "  #计算梯度\n",
        "  gradients = g.gradient(loss, [W,b])\n",
        "  # 更新W和b\n",
        "  optimizer.apply_gradients(zip(gradients, [W,b]))\n",
        "\n",
        "# 执行训练\n",
        "for step in range(1, training_step+1):\n",
        "  run_optimization()\n",
        "\n",
        "  if step % display_step == 0:\n",
        "    pred = linear_regression(X)\n",
        "    loss = mean_square(pred,Y)\n",
        "    print(\"step: %i, loss: %f, W: %f, b: %f\" % (step, loss, W.numpy(), b.numpy()))"
      ]
    },
    {
      "cell_type": "code",
      "source": [
        "import matplotlib.pyplot as plt\n",
        "plt.plot(X,Y,'ro', label='Original data')\n",
        "plt.plot(X,np.array(W*X+b),label='Fitted line')\n",
        "plt.legend()\n",
        "plt.show()"
      ],
      "metadata": {
        "colab": {
          "base_uri": "https://localhost:8080/",
          "height": 430
        },
        "id": "0WbA5vNO_utp",
        "outputId": "cc305cce-8c69-4b89-9585-4e2d49f319db"
      },
      "execution_count": 7,
      "outputs": [
        {
          "output_type": "display_data",
          "data": {
            "text/plain": [
              "<Figure size 640x480 with 1 Axes>"
            ],
            "image/png": "[encoded data removed]"
          },
          "metadata": {}
        }
      ]
    }
  ]
}