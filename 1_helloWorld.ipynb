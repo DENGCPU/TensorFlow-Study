{
  "nbformat": 4,
  "nbformat_minor": 0,
  "metadata": {
    "colab": {
      "provenance": [],
      "authorship_tag": "ABX9TyOhVMlimAEaEyQhHF5Cp428",
      "include_colab_link": true
    },
    "kernelspec": {
      "name": "python3",
      "display_name": "Python 3"
    },
    "language_info": {
      "name": "python"
    }
  },
  "cells": [
    {
      "cell_type": "markdown",
      "metadata": {
        "id": "view-in-github",
        "colab_type": "text"
      },
      "source": [
        "<a href=\"https://colab.research.google.com/github/DENGCPU/TensorFlow-Study/blob/main/1_helloWorld.ipynb\" target=\"_parent\"><img src=\"https://colab.research.google.com/assets/colab-badge.svg\" alt=\"Open In Colab\"/></a>"
      ]
    },
    {
      "cell_type": "code",
      "execution_count": 2,
      "metadata": {
        "colab": {
          "base_uri": "https://localhost:8080/"
        },
        "id": "RO7W2Hqzbp72",
        "outputId": "0a225fe9-6c5a-4a55-91bc-db30a338b092"
      },
      "outputs": [
        {
          "output_type": "stream",
          "name": "stdout",
          "text": [
            "tf.Tensor(b'hello world', shape=(), dtype=string)\n",
            "b'hello world'\n"
          ]
        }
      ],
      "source": [
        "import tensorflow as tf\n",
        "\n",
        "#create a tensor\n",
        "hello = tf.constant(\"hello world\")\n",
        "\n",
        "print(hello)\n",
        "\n",
        "# To access a tensor value, call numpy()\n",
        "print(hello.numpy())"
      ]
    },
    {
      "cell_type": "code",
      "source": [
        "#一些基础操作\n",
        "from __future__ import print_function\n",
        "import tensorflow as tf\n",
        "#define tensor constants\n",
        "a = tf.constant(2)\n",
        "b = tf.constant(3)\n",
        "c = tf.constant(5)\n",
        "\n",
        "add = tf.add(a,b)\n",
        "sub = a - b\n",
        "print(\"add=\", add.numpy())\n",
        "print('sub=', sub.numpy())\n",
        "\n",
        "sum = tf.reduce_sum([a,b,c])\n",
        "mean = tf.reduce_mean([a,b,c])\n",
        "print(\"sum=\",sum.numpy())\n",
        "print(\"mean=\",mean.numpy())\n",
        "\n",
        "#矩阵乘法\n",
        "matrix1 = tf.constant([[1.,2.],[3.,4.]])\n",
        "matrix2 = tf.constant([[5.,6.],[7.,8.]])\n",
        "product = tf.matmul(matrix1,matrix2)\n",
        "print(product)\n",
        "print(product.numpy())"
      ],
      "metadata": {
        "colab": {
          "base_uri": "https://localhost:8080/"
        },
        "id": "vqnVTMOccoSJ",
        "outputId": "a5c6b171-4df9-4658-9651-88fd3c178b85"
      },
      "execution_count": 7,
      "outputs": [
        {
          "output_type": "stream",
          "name": "stdout",
          "text": [
            "add= 5\n",
            "sub= -1\n",
            "sum= 10\n",
            "mean= 3\n",
            "tf.Tensor(\n",
            "[[19. 22.]\n",
            " [43. 50.]], shape=(2, 2), dtype=float32)\n",
            "[[19. 22.]\n",
            " [43. 50.]]\n"
          ]
        }
      ]
    },
    {
      "cell_type": "code",
      "source": [],
      "metadata": {
        "id": "xr0SGPsTdHFz"
      },
      "execution_count": null,
      "outputs": []
    }
  ]
}