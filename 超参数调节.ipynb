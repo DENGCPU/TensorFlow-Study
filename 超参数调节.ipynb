{
  "nbformat": 4,
  "nbformat_minor": 0,
  "metadata": {
    "colab": {
      "provenance": [],
      "authorship_tag": "ABX9TyMs4uvRrulhKiYIU0j2bzDJ",
      "include_colab_link": true
    },
    "kernelspec": {
      "name": "python3",
      "display_name": "Python 3"
    },
    "language_info": {
      "name": "python"
    }
  },
  "cells": [
    {
      "cell_type": "markdown",
      "metadata": {
        "id": "view-in-github",
        "colab_type": "text"
      },
      "source": [
        "<a href=\"https://colab.research.google.com/github/DENGCPU/TensorFlow-Study/blob/main/%E8%B6%85%E5%8F%82%E6%95%B0%E8%B0%83%E8%8A%82.ipynb\" target=\"_parent\"><img src=\"https://colab.research.google.com/assets/colab-badge.svg\" alt=\"Open In Colab\"/></a>"
      ]
    },
    {
      "cell_type": "code",
      "execution_count": 10,
      "metadata": {
        "id": "Dq6wTmo7Jb-k"
      },
      "outputs": [],
      "source": [
        "# 使用keras Turner为机器学习ML选择正确的超参数集\n",
        "\n",
        "# 超参数是控制训练过程和ML模型拓扑的变量，会直接影响ML的性能\n",
        "# 1、模型超参数：影响模型的选择，例如隐藏层的数量和宽度\n",
        "# 2、算法超参数：影响学习算法的速度和质量，例如随机梯度下降SGD的学习率和K近邻KNN分类器的近邻数"
      ]
    },
    {
      "cell_type": "code",
      "source": [
        "# 使用Keras Tuner对图像分类执行超调\n",
        "import tensorflow as tf\n",
        "from tensorflow import keras"
      ],
      "metadata": {
        "id": "Tzl-Y2WzRujU"
      },
      "execution_count": 11,
      "outputs": []
    },
    {
      "cell_type": "code",
      "source": [
        "pip install -q -U keras-tuner"
      ],
      "metadata": {
        "id": "cxcaTOS3Svxf"
      },
      "execution_count": 12,
      "outputs": []
    },
    {
      "cell_type": "code",
      "source": [
        "import keras_tuner as kt"
      ],
      "metadata": {
        "id": "-cm1YPvsRukg"
      },
      "execution_count": 13,
      "outputs": []
    },
    {
      "cell_type": "code",
      "source": [
        "# 下载并准备数据集\n",
        "(img_train,label_train), (img_test,label_test)=keras.datasets.fashion_mnist.load_data()\n",
        "\n",
        "# normalize pixel values between 0 and 1\n",
        "img_train = img_train.astype('float32') / 255.0\n",
        "img_test = img_test.astype('float32') / 255.0"
      ],
      "metadata": {
        "id": "1PFmuPLhTEzE"
      },
      "execution_count": 14,
      "outputs": []
    },
    {
      "cell_type": "code",
      "source": [
        "# 定义超模型\n",
        "def model_builder(hp):\n",
        "  model =keras.Sequential()\n",
        "  model.add(keras.layers.Flatten(input_shape=(28,28)))\n",
        "  # tune the number of units in the first Dense layer\n",
        "  # choose an optimal value between 32-512\n",
        "  hp_units = hp.Int('units',min_value=32,max_value=512,step=32)\n",
        "  model.add(keras.layers.Dense(units=hp_units,activation='relu'))\n",
        "  model.add(keras.layers.Dense(10))\n",
        "\n",
        "  # tune the learning rate for the optimizer\n",
        "  # choose an optimal value from 0.01, 0.001, 0.0001\n",
        "  hp_learning_rate = hp.Choice('learning_rate',values=[1e-2,1e-3,1e-4])\n",
        "\n",
        "# from_logits=True 表示模型的输出是logits（即未经过softmax或sigmoid激活的原始输出）。在这种情况下，损失函数内部会应用softmax激活，并计算交叉熵损失。如果你的模型输出已经是概率分布（例如，经过了softmax层），你应该设置from_logits=False\n",
        "  model.compile(optimizer = keras.optimizers.Adam(learning_rate=hp_learning_rate),\n",
        "                loss= keras.losses.SparseCategoricalCrossentropy(from_logits=True),\n",
        "                metrics=['accuracy'])\n",
        "  return model"
      ],
      "metadata": {
        "id": "ntAfq483VOR9"
      },
      "execution_count": 15,
      "outputs": []
    },
    {
      "cell_type": "code",
      "source": [
        "# 实例化调节器并执行超调（使用Hyperband调节器\n",
        "tuner=kt.Hyperband(model_builder,\n",
        "                   objective='val_accuracy',\n",
        "                   max_epochs=10,\n",
        "                   factor=3,\n",
        "                   directory='my_dir',\n",
        "                   project_name='intro_to_kt')\n",
        "# 创建回调，在验证损失达到特定值后提前停止训练\n",
        "stop_early = tf.keras.callbacks.EarlyStopping(monitor='val_loss',patience=5)\n",
        "\n",
        "# 运行超参数搜索\n",
        "tuner.search(img_train,label_train,epochs=50,validation_split=0.2,callbacks=[stop_early])\n",
        "# 得到最佳的超参数\n",
        "best_hps = tuner.get_best_hyperparameters(num_trials=1)[0]\n",
        "print(f\"\"\"\n",
        "The hyperparameter search is complete. The optimal number of units in the first densely-connected\n",
        "layer is {best_hps.get('units')} and the optimal learning rate for the optimizer\n",
        "is {best_hps.get('learning_rate')}.\n",
        "\"\"\")"
      ],
      "metadata": {
        "colab": {
          "base_uri": "https://localhost:8080/"
        },
        "id": "UHWxNVyhVqDZ",
        "outputId": "375eb6d3-4de0-43e5-e4cb-3d7988b57999"
      },
      "execution_count": 17,
      "outputs": [
        {
          "output_type": "stream",
          "name": "stdout",
          "text": [
            "Reloading Tuner from my_dir/intro_to_kt/tuner0.json\n",
            "\n",
            "The hyperparameter search is complete. The optimal number of units in the first densely-connected\n",
            "layer is 416 and the optimal learning rate for the optimizer\n",
            "is 0.001.\n",
            "\n"
          ]
        }
      ]
    },
    {
      "cell_type": "code",
      "source": [
        "# 训练模型\n",
        "# build the model with the optimal hyperparameters and train it on data for 50 epochs\n",
        "model = tuner.hypermodel.build(best_hps)\n",
        "history = model.fit(\n",
        "    img_train,\n",
        "    label_train,\n",
        "    epochs=50,\n",
        "    validation_split=0.2\n",
        ")\n",
        "val_acc_per_epoch = history.history['val_accuracy']\n",
        "best_epoch = val_acc_per_epoch.index(max(val_acc_per_epoch))+1\n",
        "print('best epoch: %d' % (best_epoch,))"
      ],
      "metadata": {
        "colab": {
          "base_uri": "https://localhost:8080/"
        },
        "id": "onGLSTB8fcrT",
        "outputId": "71e1f234-6d81-44a4-b7d1-4ba882252821"
      },
      "execution_count": 18,
      "outputs": [
        {
          "output_type": "stream",
          "name": "stdout",
          "text": [
            "Epoch 1/50\n",
            "1500/1500 [==============================] - 12s 8ms/step - loss: 0.4982 - accuracy: 0.8225 - val_loss: 0.4308 - val_accuracy: 0.8457\n",
            "Epoch 2/50\n",
            "1500/1500 [==============================] - 10s 7ms/step - loss: 0.3676 - accuracy: 0.8662 - val_loss: 0.3539 - val_accuracy: 0.8719\n",
            "Epoch 3/50\n",
            "1500/1500 [==============================] - 12s 8ms/step - loss: 0.3272 - accuracy: 0.8804 - val_loss: 0.3477 - val_accuracy: 0.8748\n",
            "Epoch 4/50\n",
            "1500/1500 [==============================] - 12s 8ms/step - loss: 0.3042 - accuracy: 0.8865 - val_loss: 0.3210 - val_accuracy: 0.8839\n",
            "Epoch 5/50\n",
            "1500/1500 [==============================] - 12s 8ms/step - loss: 0.2851 - accuracy: 0.8940 - val_loss: 0.3272 - val_accuracy: 0.8809\n",
            "Epoch 6/50\n",
            "1500/1500 [==============================] - 11s 7ms/step - loss: 0.2695 - accuracy: 0.8987 - val_loss: 0.3315 - val_accuracy: 0.8820\n",
            "Epoch 7/50\n",
            "1500/1500 [==============================] - 11s 7ms/step - loss: 0.2557 - accuracy: 0.9041 - val_loss: 0.3154 - val_accuracy: 0.8884\n",
            "Epoch 8/50\n",
            "1500/1500 [==============================] - 10s 7ms/step - loss: 0.2448 - accuracy: 0.9088 - val_loss: 0.3236 - val_accuracy: 0.8847\n",
            "Epoch 9/50\n",
            "1500/1500 [==============================] - 11s 8ms/step - loss: 0.2321 - accuracy: 0.9124 - val_loss: 0.3285 - val_accuracy: 0.8811\n",
            "Epoch 10/50\n",
            "1500/1500 [==============================] - 11s 7ms/step - loss: 0.2245 - accuracy: 0.9162 - val_loss: 0.3459 - val_accuracy: 0.8838\n",
            "Epoch 11/50\n",
            "1500/1500 [==============================] - 11s 7ms/step - loss: 0.2172 - accuracy: 0.9180 - val_loss: 0.3257 - val_accuracy: 0.8882\n",
            "Epoch 12/50\n",
            "1500/1500 [==============================] - 10s 7ms/step - loss: 0.2048 - accuracy: 0.9230 - val_loss: 0.3208 - val_accuracy: 0.8885\n",
            "Epoch 13/50\n",
            "1500/1500 [==============================] - 10s 7ms/step - loss: 0.1983 - accuracy: 0.9244 - val_loss: 0.3433 - val_accuracy: 0.8880\n",
            "Epoch 14/50\n",
            "1500/1500 [==============================] - 11s 8ms/step - loss: 0.1940 - accuracy: 0.9270 - val_loss: 0.3260 - val_accuracy: 0.8887\n",
            "Epoch 15/50\n",
            "1500/1500 [==============================] - 11s 8ms/step - loss: 0.1848 - accuracy: 0.9301 - val_loss: 0.3409 - val_accuracy: 0.8852\n",
            "Epoch 16/50\n",
            "1500/1500 [==============================] - 12s 8ms/step - loss: 0.1790 - accuracy: 0.9325 - val_loss: 0.3442 - val_accuracy: 0.8870\n",
            "Epoch 17/50\n",
            "1500/1500 [==============================] - 10s 7ms/step - loss: 0.1723 - accuracy: 0.9352 - val_loss: 0.3331 - val_accuracy: 0.8947\n",
            "Epoch 18/50\n",
            "1500/1500 [==============================] - 10s 7ms/step - loss: 0.1693 - accuracy: 0.9360 - val_loss: 0.3384 - val_accuracy: 0.8913\n",
            "Epoch 19/50\n",
            "1500/1500 [==============================] - 11s 7ms/step - loss: 0.1647 - accuracy: 0.9374 - val_loss: 0.3399 - val_accuracy: 0.8932\n",
            "Epoch 20/50\n",
            "1500/1500 [==============================] - 12s 8ms/step - loss: 0.1559 - accuracy: 0.9417 - val_loss: 0.3376 - val_accuracy: 0.8935\n",
            "Epoch 21/50\n",
            "1500/1500 [==============================] - 11s 8ms/step - loss: 0.1509 - accuracy: 0.9429 - val_loss: 0.3721 - val_accuracy: 0.8903\n",
            "Epoch 22/50\n",
            "1500/1500 [==============================] - 11s 7ms/step - loss: 0.1472 - accuracy: 0.9451 - val_loss: 0.3617 - val_accuracy: 0.8884\n",
            "Epoch 23/50\n",
            "1500/1500 [==============================] - 10s 7ms/step - loss: 0.1440 - accuracy: 0.9464 - val_loss: 0.3648 - val_accuracy: 0.8958\n",
            "Epoch 24/50\n",
            "1500/1500 [==============================] - 11s 7ms/step - loss: 0.1397 - accuracy: 0.9477 - val_loss: 0.3702 - val_accuracy: 0.8898\n",
            "Epoch 25/50\n",
            "1500/1500 [==============================] - 12s 8ms/step - loss: 0.1351 - accuracy: 0.9493 - val_loss: 0.3841 - val_accuracy: 0.8898\n",
            "Epoch 26/50\n",
            "1500/1500 [==============================] - 12s 8ms/step - loss: 0.1277 - accuracy: 0.9515 - val_loss: 0.3639 - val_accuracy: 0.8961\n",
            "Epoch 27/50\n",
            "1500/1500 [==============================] - 12s 8ms/step - loss: 0.1274 - accuracy: 0.9521 - val_loss: 0.3956 - val_accuracy: 0.8867\n",
            "Epoch 28/50\n",
            "1500/1500 [==============================] - 12s 8ms/step - loss: 0.1240 - accuracy: 0.9522 - val_loss: 0.3897 - val_accuracy: 0.8924\n",
            "Epoch 29/50\n",
            "1500/1500 [==============================] - 10s 7ms/step - loss: 0.1210 - accuracy: 0.9535 - val_loss: 0.4231 - val_accuracy: 0.8949\n",
            "Epoch 30/50\n",
            "1500/1500 [==============================] - 11s 7ms/step - loss: 0.1181 - accuracy: 0.9554 - val_loss: 0.4177 - val_accuracy: 0.8928\n",
            "Epoch 31/50\n",
            "1500/1500 [==============================] - 11s 8ms/step - loss: 0.1137 - accuracy: 0.9576 - val_loss: 0.4056 - val_accuracy: 0.8942\n",
            "Epoch 32/50\n",
            "1500/1500 [==============================] - 11s 8ms/step - loss: 0.1121 - accuracy: 0.9579 - val_loss: 0.4369 - val_accuracy: 0.8913\n",
            "Epoch 33/50\n",
            "1500/1500 [==============================] - 11s 7ms/step - loss: 0.1086 - accuracy: 0.9589 - val_loss: 0.4330 - val_accuracy: 0.8894\n",
            "Epoch 34/50\n",
            "1500/1500 [==============================] - 11s 8ms/step - loss: 0.1062 - accuracy: 0.9600 - val_loss: 0.4373 - val_accuracy: 0.8914\n",
            "Epoch 35/50\n",
            "1500/1500 [==============================] - 11s 7ms/step - loss: 0.1068 - accuracy: 0.9596 - val_loss: 0.4420 - val_accuracy: 0.8926\n",
            "Epoch 36/50\n",
            "1500/1500 [==============================] - 11s 8ms/step - loss: 0.1001 - accuracy: 0.9623 - val_loss: 0.4363 - val_accuracy: 0.8958\n",
            "Epoch 37/50\n",
            "1500/1500 [==============================] - 12s 8ms/step - loss: 0.0984 - accuracy: 0.9636 - val_loss: 0.4542 - val_accuracy: 0.8938\n",
            "Epoch 38/50\n",
            "1500/1500 [==============================] - 11s 7ms/step - loss: 0.0991 - accuracy: 0.9626 - val_loss: 0.4355 - val_accuracy: 0.8932\n",
            "Epoch 39/50\n",
            "1500/1500 [==============================] - 11s 7ms/step - loss: 0.0931 - accuracy: 0.9649 - val_loss: 0.4620 - val_accuracy: 0.8919\n",
            "Epoch 40/50\n",
            "1500/1500 [==============================] - 10s 7ms/step - loss: 0.0957 - accuracy: 0.9635 - val_loss: 0.4898 - val_accuracy: 0.8882\n",
            "Epoch 41/50\n",
            "1500/1500 [==============================] - 12s 8ms/step - loss: 0.0902 - accuracy: 0.9674 - val_loss: 0.4518 - val_accuracy: 0.8949\n",
            "Epoch 42/50\n",
            "1500/1500 [==============================] - 11s 7ms/step - loss: 0.0893 - accuracy: 0.9660 - val_loss: 0.5054 - val_accuracy: 0.8901\n",
            "Epoch 43/50\n",
            "1500/1500 [==============================] - 11s 7ms/step - loss: 0.0856 - accuracy: 0.9677 - val_loss: 0.4778 - val_accuracy: 0.8896\n",
            "Epoch 44/50\n",
            "1500/1500 [==============================] - 12s 8ms/step - loss: 0.0847 - accuracy: 0.9680 - val_loss: 0.4994 - val_accuracy: 0.8898\n",
            "Epoch 45/50\n",
            "1500/1500 [==============================] - 10s 6ms/step - loss: 0.0857 - accuracy: 0.9679 - val_loss: 0.4937 - val_accuracy: 0.8941\n",
            "Epoch 46/50\n",
            "1500/1500 [==============================] - 11s 7ms/step - loss: 0.0832 - accuracy: 0.9689 - val_loss: 0.4831 - val_accuracy: 0.8959\n",
            "Epoch 47/50\n",
            "1500/1500 [==============================] - 11s 8ms/step - loss: 0.0797 - accuracy: 0.9695 - val_loss: 0.4857 - val_accuracy: 0.8948\n",
            "Epoch 48/50\n",
            "1500/1500 [==============================] - 11s 7ms/step - loss: 0.0757 - accuracy: 0.9719 - val_loss: 0.5110 - val_accuracy: 0.8920\n",
            "Epoch 49/50\n",
            "1500/1500 [==============================] - 10s 7ms/step - loss: 0.0759 - accuracy: 0.9710 - val_loss: 0.4992 - val_accuracy: 0.8936\n",
            "Epoch 50/50\n",
            "1500/1500 [==============================] - 10s 7ms/step - loss: 0.0730 - accuracy: 0.9726 - val_loss: 0.4974 - val_accuracy: 0.8946\n",
            "best epoch: 26\n"
          ]
        }
      ]
    },
    {
      "cell_type": "code",
      "source": [
        "# 评估超模型\n",
        "eval_result = model.evaluate(img_test,label_test)\n",
        "print('[test loss, test accuracy]:', eval_result)"
      ],
      "metadata": {
        "id": "5Ub3_kcPe-_s",
        "outputId": "37bd2404-685d-4b92-d4f4-b0e532fbddd9",
        "colab": {
          "base_uri": "https://localhost:8080/"
        }
      },
      "execution_count": 20,
      "outputs": [
        {
          "output_type": "stream",
          "name": "stdout",
          "text": [
            "313/313 [==============================] - 1s 2ms/step - loss: 0.5741 - accuracy: 0.8914\n",
            "[test loss, test accuracy]: [0.5741127729415894, 0.8913999795913696]\n"
          ]
        }
      ]
    }
  ]
}